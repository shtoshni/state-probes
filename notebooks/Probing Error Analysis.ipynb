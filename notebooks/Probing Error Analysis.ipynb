{
 "cells": [
  {
   "cell_type": "code",
   "execution_count": 2,
   "metadata": {},
   "outputs": [],
   "source": [
    "import os\n",
    "from os import path\n",
    "import json\n",
    "import torch\n",
    "\n",
    "from scipy.stats import spearmanr\n",
    "import math\n",
    "from collections import Counter\n",
    "\n",
    "import glob"
   ]
  },
  {
   "cell_type": "code",
   "execution_count": 3,
   "metadata": {},
   "outputs": [],
   "source": [
    "# base_dir = \"/share/data/speech/shtoshni/research/state-probes/models\"\n",
    "base_dir = \"/private/home/shtoshni/research/state-probes/models\"\n",
    "seed = 3"
   ]
  },
  {
   "cell_type": "code",
   "execution_count": 4,
   "metadata": {},
   "outputs": [
    {
     "name": "stdout",
     "output_type": "stream",
     "text": [
      "\"size_base_epochs_100_patience_2_state_all_text_seed_3\", \n",
      "\"size_base_epochs_10_patience_2_state_all_text_seed_3\", \n"
     ]
    }
   ],
   "source": [
    "model_paths = glob.glob(path.join(base_dir, f\"size*seed_{seed}\"))\n",
    "\n",
    "# print(model_paths)\n",
    "\n",
    "model_names = [path.split(model_path.rstrip(\"/\"))[1] for model_path in model_paths]\n",
    "model_names = sorted(model_names)\n",
    "for model_name in model_names:\n",
    "    print(f'\"{model_name}\", ')"
   ]
  },
  {
   "cell_type": "code",
   "execution_count": 7,
   "metadata": {},
   "outputs": [],
   "source": [
    "# total_corr_list = []\n",
    "# perplexity_list = []\n",
    "# for model_name in model_names:\n",
    "#     model_path = path.join(base_dir, model_name)\n",
    "#     log_file = path.join(model_path, \"dev.jsonl\")\n",
    "#     if path.exists(log_file):\n",
    "#         #         print(model_name)\n",
    "#         model = torch.load(path.join(path.join(model_path, \"best\"), \"model.pt\"))\n",
    "#         best_val_loss = model[\"train_info\"][\"best_val_loss\"]\n",
    "\n",
    "#         data = json.load(open(log_file))\n",
    "\n",
    "#         orig = [0, 0]\n",
    "#         chng = [0, 0]\n",
    "#         for key in data:\n",
    "#             instance = data[key]\n",
    "#             for output in instance[\"output\"]:\n",
    "#                 if output[\"same_as_init\"]:\n",
    "#                     orig[1] += 1\n",
    "#                     if output[\"corr\"]:\n",
    "#                         orig[0] += 1\n",
    "#                 else:\n",
    "#                     chng[1] += 1\n",
    "#                     if output[\"corr\"]:\n",
    "#                         chng[0] += 1\n",
    "\n",
    "#         #         print(orig)\n",
    "#         #         print(chng)\n",
    "#         #         print(f\"{best_val_loss:.3f}\")\n",
    "\n",
    "#         total_corr = orig[0] + chng[0]\n",
    "#         perplexity = math.exp(best_val_loss)\n",
    "\n",
    "#         if \"oracle\" not in model_name:\n",
    "#             total_corr_list.append(total_corr)\n",
    "#             perplexity_list.append(perplexity)\n",
    "\n",
    "\n",
    "# print(len(total_corr_list))\n",
    "# # print(perplexity_list)\n",
    "# print(spearmanr(total_corr_list, perplexity_list))"
   ]
  },
  {
   "cell_type": "code",
   "execution_count": 8,
   "metadata": {},
   "outputs": [
    {
     "name": "stdout",
     "output_type": "stream",
     "text": [
      "2\n",
      "SpearmanrResult(correlation=-0.9999999999999999, pvalue=nan)\n",
      "3.730038707883661\n",
      "0.226\n"
     ]
    }
   ],
   "source": [
    "perplexity_list = []\n",
    "mrr_list = []\n",
    "\n",
    "model_names = [\n",
    "    \"size_base_epochs_100_patience_2_state_all_text_seed_3\", \n",
    "    \"size_base_epochs_10_patience_2_state_all_text_seed_3\", \n",
    "#     \"size_base_epochs_100_patience_10_seed_100\",\n",
    "#     \"size_base_epochs_100_patience_10_state_0.1_all_text_seed_100\",\n",
    "#     \"size_base_epochs_100_patience_10_state_0.1_random_text_seed_100\",\n",
    "#     \"size_base_epochs_100_patience_10_state_0.1_targeted_text_seed_100\",\n",
    "#     \"size_base_epochs_100_patience_10_state_0.2_all_text_seed_100\",\n",
    "#     \"size_base_epochs_100_patience_10_state_0.2_random_text_seed_100\",\n",
    "#     \"size_base_epochs_100_patience_10_state_0.2_targeted_text_seed_100\",\n",
    "#     \"size_base_epochs_100_patience_10_state_0.3_all_text_seed_100\",\n",
    "#     \"size_base_epochs_100_patience_10_state_0.3_random_text_seed_100\",\n",
    "#     \"size_base_epochs_100_patience_10_state_0.3_targeted_text_seed_100\",\n",
    "#     \"size_base_epochs_100_patience_10_state_0.4_all_text_seed_100\",\n",
    "#     \"size_base_epochs_100_patience_10_state_0.4_random_text_seed_100\",\n",
    "#     \"size_base_epochs_100_patience_10_state_0.4_targeted_text_seed_100\",\n",
    "#     \"size_base_epochs_100_patience_10_state_0.5_all_text_seed_100\",\n",
    "#     \"size_base_epochs_100_patience_10_state_0.5_random_text_seed_100\",\n",
    "#     \"size_base_epochs_100_patience_10_state_0.5_targeted_text_seed_100\",\n",
    "#     \"size_base_epochs_100_patience_10_state_0.6_all_text_seed_100\",\n",
    "#     \"size_base_epochs_100_patience_10_state_0.6_random_text_seed_100\",\n",
    "#     \"size_base_epochs_100_patience_10_state_0.6_targeted_text_seed_100\",\n",
    "#     \"size_base_epochs_100_patience_10_state_0.7_all_text_seed_100\",\n",
    "#     \"size_base_epochs_100_patience_10_state_0.7_random_text_seed_100\",\n",
    "#     \"size_base_epochs_100_patience_10_state_0.7_targeted_text_seed_100\",\n",
    "#     \"size_base_epochs_100_patience_10_state_0.8_all_text_seed_100\",\n",
    "#     \"size_base_epochs_100_patience_10_state_0.8_random_text_seed_100\",\n",
    "#     \"size_base_epochs_100_patience_10_state_0.8_targeted_text_seed_100\",\n",
    "#     \"size_base_epochs_100_patience_10_state_0.9_all_text_seed_100\",\n",
    "#     \"size_base_epochs_100_patience_10_state_0.9_random_text_seed_100\",\n",
    "#     \"size_base_epochs_100_patience_10_state_0.9_targeted_text_seed_100\",\n",
    "#     \"size_base_epochs_100_patience_10_state_1.0_all_text_seed_100\",\n",
    "#     \"size_base_epochs_100_patience_10_state_1.0_random_text_seed_100\",\n",
    "#     \"size_base_epochs_100_patience_10_state_1.0_targeted_text_seed_100\",\n",
    "]\n",
    "\n",
    "\n",
    "for model_name in model_names:\n",
    "    model_path = path.join(base_dir, model_name)\n",
    "\n",
    "    model = torch.load(path.join(path.join(model_path, \"best\"), \"model.pt\"))\n",
    "    best_val_loss = model[\"train_info\"][\"best_val_loss\"]\n",
    "\n",
    "    log_file = path.join(model_path, \"dev.jsonl\")\n",
    "    cloze_mrr_file = path.join(model_path, \"cloze_mrr.txt\")\n",
    "\n",
    "    #     if path.exists(log_file):\n",
    "    cloze_mrr = float(open(cloze_mrr_file).read())\n",
    "    perplexity = math.exp(best_val_loss)\n",
    "\n",
    "    perplexity_list.append(perplexity)\n",
    "    mrr_list.append(cloze_mrr)\n",
    "#         print(cloze_mrr)\n",
    "\n",
    "# print(mrr_list)\n",
    "# print(perplexity_list)\n",
    "\n",
    "\n",
    "print(len(perplexity_list))\n",
    "\n",
    "print(spearmanr(perplexity_list, mrr_list))\n",
    "print(min(perplexity_list))\n",
    "print(max(mrr_list))"
   ]
  },
  {
   "cell_type": "code",
   "execution_count": 9,
   "metadata": {},
   "outputs": [
    {
     "name": "stdout",
     "output_type": "stream",
     "text": [
      "[3.730038707883661, 4.166808928155117]\n"
     ]
    }
   ],
   "source": [
    "print(sorted(perplexity_list))"
   ]
  },
  {
   "cell_type": "code",
   "execution_count": 10,
   "metadata": {},
   "outputs": [
    {
     "name": "stdout",
     "output_type": "stream",
     "text": [
      "[]\n",
      "[]\n"
     ]
    }
   ],
   "source": [
    "mrr_list = []\n",
    "total_corr_list = []\n",
    "perplexity_list = []\n",
    "\n",
    "model_names = [\n",
    "    \"size_base_epochs_100_patience_2_state_all_text_seed_3\", \n",
    "    \"size_base_epochs_10_patience_2_state_all_text_seed_3\", \n",
    "#     \"size_base_epochs_100_patience_10_seed_100\",\n",
    "#     \"size_base_epochs_100_patience_10_state_0.1_all_text_seed_100\",\n",
    "#     \"size_base_epochs_100_patience_10_state_0.1_random_text_seed_100\",\n",
    "#     \"size_base_epochs_100_patience_10_state_0.1_targeted_text_seed_100\",\n",
    "#     \"size_base_epochs_100_patience_10_state_0.2_all_text_seed_100\",\n",
    "#     \"size_base_epochs_100_patience_10_state_0.2_random_text_seed_100\",\n",
    "#     \"size_base_epochs_100_patience_10_state_0.2_targeted_text_seed_100\",\n",
    "#     \"size_base_epochs_100_patience_10_state_0.3_all_text_seed_100\",\n",
    "#     \"size_base_epochs_100_patience_10_state_0.3_random_text_seed_100\",\n",
    "#     \"size_base_epochs_100_patience_10_state_0.3_targeted_text_seed_100\",\n",
    "#     \"size_base_epochs_100_patience_10_state_0.4_all_text_seed_100\",\n",
    "#     \"size_base_epochs_100_patience_10_state_0.4_random_text_seed_100\",\n",
    "#     \"size_base_epochs_100_patience_10_state_0.4_targeted_text_seed_100\",\n",
    "#     \"size_base_epochs_100_patience_10_state_0.5_all_text_seed_100\",\n",
    "#     \"size_base_epochs_100_patience_10_state_0.5_random_text_seed_100\",\n",
    "#     \"size_base_epochs_100_patience_10_state_0.5_targeted_text_seed_100\",\n",
    "#     \"size_base_epochs_100_patience_10_state_0.6_all_text_seed_100\",\n",
    "#     \"size_base_epochs_100_patience_10_state_0.6_random_text_seed_100\",\n",
    "#     \"size_base_epochs_100_patience_10_state_0.6_targeted_text_seed_100\",\n",
    "#     \"size_base_epochs_100_patience_10_state_0.7_all_text_seed_100\",\n",
    "#     \"size_base_epochs_100_patience_10_state_0.7_random_text_seed_100\",\n",
    "#     \"size_base_epochs_100_patience_10_state_0.7_targeted_text_seed_100\",\n",
    "#     \"size_base_epochs_100_patience_10_state_0.8_all_text_seed_100\",\n",
    "#     \"size_base_epochs_100_patience_10_state_0.8_random_text_seed_100\",\n",
    "#     \"size_base_epochs_100_patience_10_state_0.8_targeted_text_seed_100\",\n",
    "#     \"size_base_epochs_100_patience_10_state_0.9_all_text_seed_100\",\n",
    "#     \"size_base_epochs_100_patience_10_state_0.9_random_text_seed_100\",\n",
    "#     \"size_base_epochs_100_patience_10_state_0.9_targeted_text_seed_100\",\n",
    "#     \"size_base_epochs_100_patience_10_state_1.0_all_text_seed_100\",\n",
    "#     \"size_base_epochs_100_patience_10_state_1.0_random_text_seed_100\",\n",
    "#     \"size_base_epochs_100_patience_10_state_1.0_targeted_text_seed_100\",\n",
    "]\n",
    "\n",
    "\n",
    "for model_name in model_names:\n",
    "    model_path = path.join(base_dir, model_name)\n",
    "    #     if 'random' in model_name:\n",
    "    #         continue\n",
    "    model = torch.load(path.join(path.join(model_path, \"best\"), \"model.pt\"))\n",
    "    best_val_loss = model[\"train_info\"][\"best_val_loss\"]\n",
    "    log_file = path.join(model_path, \"dev.jsonl\")\n",
    "    if path.exists(log_file):\n",
    "        data = json.load(open(log_file))\n",
    "        orig = [0, 0]\n",
    "        chng = [0, 0]\n",
    "        for key in data:\n",
    "            instance = data[key]\n",
    "            for output in instance[\"output\"]:\n",
    "                if output[\"same_as_init\"]:\n",
    "                    orig[1] += 1\n",
    "                    if output[\"corr\"]:\n",
    "                        orig[0] += 1\n",
    "                else:\n",
    "                    chng[1] += 1\n",
    "                    if output[\"corr\"]:\n",
    "                        chng[0] += 1\n",
    "\n",
    "        total_corr = orig[0] + chng[0]\n",
    "        total_corr_list.append(total_corr)\n",
    "\n",
    "        cloze_mrr_file = path.join(model_path, \"cloze_mrr.txt\")\n",
    "\n",
    "        cloze_mrr = float(open(cloze_mrr_file).read())\n",
    "        perplexity = math.exp(best_val_loss)\n",
    "\n",
    "        perplexity_list.append(best_val_loss)\n",
    "        mrr_list.append(cloze_mrr)\n",
    "\n",
    "print(total_corr_list)\n",
    "print(mrr_list)"
   ]
  },
  {
   "cell_type": "code",
   "execution_count": 11,
   "metadata": {},
   "outputs": [
    {
     "data": {
      "text/plain": [
       "SpearmanrResult(correlation=nan, pvalue=nan)"
      ]
     },
     "execution_count": 11,
     "metadata": {},
     "output_type": "execute_result"
    }
   ],
   "source": [
    "spearmanr(total_corr_list, mrr_list)"
   ]
  },
  {
   "cell_type": "markdown",
   "metadata": {},
   "source": [
    "## Egregious Errors"
   ]
  },
  {
   "cell_type": "code",
   "execution_count": null,
   "metadata": {},
   "outputs": [],
   "source": [
    "# # model_names = [\n",
    "# # #     'size_base_epochs_100_patience_10_state_0.1_targeted_text_seed_60',\n",
    "# #     'size_base_epochs_100_patience_10_state_0.5_targeted_text_seed_70',\n",
    "\n",
    "# #     'size_base_epochs_100_patience_10_state_0.1_all_text_seed_70',\n",
    "# #     'size_base_epochs_100_patience_10_state_0.25_all_text_seed_70',\n",
    "# #     'size_base_epochs_100_patience_10_state_0.5_all_text_seed_70',\n",
    "# #     'size_base_epochs_100_patience_10_state_0.75_all_text_seed_70',\n",
    "\n",
    "# # #     'size_base_epochs_100_patience_10_state_0.1_random_text_seed_60',\n",
    "# # #     'size_base_epochs_100_patience_10_state_0.25_random_text_seed_60',\n",
    "# # #     'size_base_epochs_100_patience_10_state_0.5_random_text_seed_60',\n",
    "# # #     'size_base_epochs_100_patience_10_state_0.75_random_text_seed_60',\n",
    "# # ]\n",
    "\n",
    "\n",
    "# for model_name in model_names:\n",
    "#     model_path = path.join(base_dir, model_name)\n",
    "#     log_file = path.join(model_path, 'dev.jsonl')\n",
    "#     if path.exists(log_file):\n",
    "# #         print(model_name)\n",
    "#         model = torch.load(path.join(path.join(model_path, \"best\"), \"model.pt\"))\n",
    "#         best_val_loss = model[\"train_info\"][\"best_val_loss\"]\n",
    "\n",
    "#         data = json.load(open(log_file))\n",
    "\n",
    "#         error_count_dict = Counter()\n",
    "#         for key in data:\n",
    "#             instance = data[key]\n",
    "#             error_count = 0\n",
    "#             for output in instance[\"output\"]:\n",
    "#                 if not output[\"corr\"]:\n",
    "#                     error_count += 1\n",
    "\n",
    "# #             if error_count == 6:\n",
    "# #                 print(instance)\n",
    "#             error_count_dict[error_count] += 1\n",
    "\n",
    "# #         print(error_count_dict)\n",
    "# #         print()"
   ]
  }
 ],
 "metadata": {
  "kernelspec": {
   "display_name": "Python 3 (ipykernel)",
   "language": "python",
   "name": "python3"
  },
  "language_info": {
   "codemirror_mode": {
    "name": "ipython",
    "version": 3
   },
   "file_extension": ".py",
   "mimetype": "text/x-python",
   "name": "python",
   "nbconvert_exporter": "python",
   "pygments_lexer": "ipython3",
   "version": "3.8.0"
  }
 },
 "nbformat": 4,
 "nbformat_minor": 4
}
