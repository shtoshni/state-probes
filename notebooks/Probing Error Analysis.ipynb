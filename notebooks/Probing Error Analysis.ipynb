{
 "cells": [
  {
   "cell_type": "code",
   "execution_count": 152,
   "metadata": {},
   "outputs": [],
   "source": [
    "import os\n",
    "from os import path\n",
    "import json\n",
    "import torch\n",
    "\n",
    "from scipy.stats import spearmanr\n",
    "import math\n",
    "from collections import Counter\n",
    "\n",
    "import glob"
   ]
  },
  {
   "cell_type": "code",
   "execution_count": 153,
   "metadata": {},
   "outputs": [],
   "source": [
    "base_dir = \"/share/data/speech/shtoshni/research/state-probes/models\"\n",
    "seed = 100"
   ]
  },
  {
   "cell_type": "code",
   "execution_count": 154,
   "metadata": {},
   "outputs": [
    {
     "name": "stdout",
     "output_type": "stream",
     "text": [
      "\"size_base_epochs_100_patience_10_seed_100\", \n",
      "\"size_base_epochs_100_patience_10_state_0.1_all_text_seed_100\", \n",
      "\"size_base_epochs_100_patience_10_state_0.1_random_text_seed_100\", \n",
      "\"size_base_epochs_100_patience_10_state_0.1_targeted_text_seed_100\", \n",
      "\"size_base_epochs_100_patience_10_state_0.2_all_text_seed_100\", \n",
      "\"size_base_epochs_100_patience_10_state_0.2_random_text_seed_100\", \n",
      "\"size_base_epochs_100_patience_10_state_0.2_targeted_text_seed_100\", \n",
      "\"size_base_epochs_100_patience_10_state_0.3_all_text_seed_100\", \n",
      "\"size_base_epochs_100_patience_10_state_0.3_random_text_seed_100\", \n",
      "\"size_base_epochs_100_patience_10_state_0.3_targeted_text_seed_100\", \n",
      "\"size_base_epochs_100_patience_10_state_0.4_all_text_seed_100\", \n",
      "\"size_base_epochs_100_patience_10_state_0.4_random_text_seed_100\", \n",
      "\"size_base_epochs_100_patience_10_state_0.4_targeted_text_seed_100\", \n",
      "\"size_base_epochs_100_patience_10_state_0.5_all_text_seed_100\", \n",
      "\"size_base_epochs_100_patience_10_state_0.5_random_text_seed_100\", \n",
      "\"size_base_epochs_100_patience_10_state_0.5_targeted_text_seed_100\", \n",
      "\"size_base_epochs_100_patience_10_state_0.6_all_text_seed_100\", \n",
      "\"size_base_epochs_100_patience_10_state_0.6_random_text_seed_100\", \n",
      "\"size_base_epochs_100_patience_10_state_0.6_targeted_text_seed_100\", \n",
      "\"size_base_epochs_100_patience_10_state_0.7_all_text_seed_100\", \n",
      "\"size_base_epochs_100_patience_10_state_0.7_random_text_seed_100\", \n",
      "\"size_base_epochs_100_patience_10_state_0.7_targeted_text_seed_100\", \n",
      "\"size_base_epochs_100_patience_10_state_0.8_all_text_seed_100\", \n",
      "\"size_base_epochs_100_patience_10_state_0.8_random_text_seed_100\", \n",
      "\"size_base_epochs_100_patience_10_state_0.8_targeted_text_seed_100\", \n",
      "\"size_base_epochs_100_patience_10_state_0.9_all_text_seed_100\", \n",
      "\"size_base_epochs_100_patience_10_state_0.9_random_text_seed_100\", \n",
      "\"size_base_epochs_100_patience_10_state_0.9_targeted_text_seed_100\", \n",
      "\"size_base_epochs_100_patience_10_state_1.0_all_text_seed_100\", \n",
      "\"size_base_epochs_100_patience_10_state_1.0_random_text_seed_100\", \n",
      "\"size_base_epochs_100_patience_10_state_1.0_targeted_text_seed_100\", \n"
     ]
    }
   ],
   "source": [
    "model_paths = glob.glob(path.join(base_dir, f\"size*seed_{seed}\"))\n",
    "\n",
    "# print(model_paths)\n",
    "\n",
    "model_names = [path.split(model_path.rstrip(\"/\"))[1] for model_path in model_paths]\n",
    "model_names = sorted(model_names)\n",
    "for model_name in model_names:\n",
    "    print(f'\"{model_name}\", ')"
   ]
  },
  {
   "cell_type": "code",
   "execution_count": 155,
   "metadata": {},
   "outputs": [
    {
     "name": "stdout",
     "output_type": "stream",
     "text": [
      "30\n",
      "SpearmanrResult(correlation=-0.28809788654060065, pvalue=0.12261998550276808)\n"
     ]
    }
   ],
   "source": [
    "total_corr_list = []\n",
    "perplexity_list = []\n",
    "for model_name in model_names:\n",
    "    model_path = path.join(base_dir, model_name)\n",
    "    log_file = path.join(model_path, 'dev.jsonl')\n",
    "    if path.exists(log_file):        \n",
    "#         print(model_name)\n",
    "        model = torch.load(path.join(path.join(model_path, \"best\"), \"model.pt\"))\n",
    "        best_val_loss = model[\"train_info\"][\"best_val_loss\"]\n",
    "        \n",
    "        data = json.load(open(log_file))\n",
    "        \n",
    "        orig = [0, 0]\n",
    "        chng = [0, 0]\n",
    "        for key in data:\n",
    "            instance = data[key]\n",
    "            for output in instance[\"output\"]:\n",
    "                if output[\"same_as_init\"]:\n",
    "                    orig[1] += 1\n",
    "                    if output[\"corr\"]:\n",
    "                        orig[0] += 1\n",
    "                else:\n",
    "                    chng[1] += 1\n",
    "                    if output[\"corr\"]:\n",
    "                        chng[0] += 1\n",
    "                        \n",
    "#         print(orig)\n",
    "#         print(chng)\n",
    "#         print(f\"{best_val_loss:.3f}\")\n",
    "        \n",
    "        \n",
    "        total_corr = orig[0] + chng[0]\n",
    "        perplexity = math.exp(best_val_loss)\n",
    "        \n",
    "        if 'oracle' not in model_name:\n",
    "            total_corr_list.append(total_corr)\n",
    "            perplexity_list.append(perplexity)\n",
    "            \n",
    "            \n",
    "print(len(total_corr_list))\n",
    "# print(perplexity_list)\n",
    "print(spearmanr(total_corr_list, perplexity_list))"
   ]
  },
  {
   "cell_type": "code",
   "execution_count": 156,
   "metadata": {},
   "outputs": [
    {
     "name": "stdout",
     "output_type": "stream",
     "text": [
      "31\n",
      "SpearmanrResult(correlation=-0.27384553894151326, pvalue=0.1360361804373118)\n",
      "2.8962543841075314\n",
      "0.317\n"
     ]
    }
   ],
   "source": [
    "perplexity_list = []\n",
    "mrr_list = []\n",
    "\n",
    "model_names = [\n",
    "    \"size_base_epochs_100_patience_10_seed_100\", \n",
    "    \"size_base_epochs_100_patience_10_state_0.1_all_text_seed_100\", \n",
    "    \"size_base_epochs_100_patience_10_state_0.1_random_text_seed_100\", \n",
    "    \"size_base_epochs_100_patience_10_state_0.1_targeted_text_seed_100\", \n",
    "    \"size_base_epochs_100_patience_10_state_0.2_all_text_seed_100\", \n",
    "    \"size_base_epochs_100_patience_10_state_0.2_random_text_seed_100\", \n",
    "    \"size_base_epochs_100_patience_10_state_0.2_targeted_text_seed_100\", \n",
    "    \"size_base_epochs_100_patience_10_state_0.3_all_text_seed_100\", \n",
    "    \"size_base_epochs_100_patience_10_state_0.3_random_text_seed_100\", \n",
    "    \"size_base_epochs_100_patience_10_state_0.3_targeted_text_seed_100\", \n",
    "    \"size_base_epochs_100_patience_10_state_0.4_all_text_seed_100\", \n",
    "    \"size_base_epochs_100_patience_10_state_0.4_random_text_seed_100\", \n",
    "    \"size_base_epochs_100_patience_10_state_0.4_targeted_text_seed_100\", \n",
    "    \"size_base_epochs_100_patience_10_state_0.5_all_text_seed_100\", \n",
    "    \"size_base_epochs_100_patience_10_state_0.5_random_text_seed_100\", \n",
    "    \"size_base_epochs_100_patience_10_state_0.5_targeted_text_seed_100\", \n",
    "    \"size_base_epochs_100_patience_10_state_0.6_all_text_seed_100\", \n",
    "    \"size_base_epochs_100_patience_10_state_0.6_random_text_seed_100\", \n",
    "    \"size_base_epochs_100_patience_10_state_0.6_targeted_text_seed_100\", \n",
    "    \"size_base_epochs_100_patience_10_state_0.7_all_text_seed_100\", \n",
    "    \"size_base_epochs_100_patience_10_state_0.7_random_text_seed_100\", \n",
    "    \"size_base_epochs_100_patience_10_state_0.7_targeted_text_seed_100\", \n",
    "    \"size_base_epochs_100_patience_10_state_0.8_all_text_seed_100\", \n",
    "    \"size_base_epochs_100_patience_10_state_0.8_random_text_seed_100\", \n",
    "    \"size_base_epochs_100_patience_10_state_0.8_targeted_text_seed_100\", \n",
    "    \"size_base_epochs_100_patience_10_state_0.9_all_text_seed_100\", \n",
    "    \"size_base_epochs_100_patience_10_state_0.9_random_text_seed_100\", \n",
    "    \"size_base_epochs_100_patience_10_state_0.9_targeted_text_seed_100\", \n",
    "    \"size_base_epochs_100_patience_10_state_1.0_all_text_seed_100\", \n",
    "    \"size_base_epochs_100_patience_10_state_1.0_random_text_seed_100\", \n",
    "    \"size_base_epochs_100_patience_10_state_1.0_targeted_text_seed_100\", \n",
    "]\n",
    "\n",
    "\n",
    "for model_name in model_names:\n",
    "    model_path = path.join(base_dir, model_name)\n",
    "    \n",
    "    model = torch.load(path.join(path.join(model_path, \"best\"), \"model.pt\"))\n",
    "    best_val_loss = model[\"train_info\"][\"best_val_loss\"]\n",
    "        \n",
    "    \n",
    "    log_file = path.join(model_path, 'dev.jsonl')\n",
    "    cloze_mrr_file = path.join(model_path, 'cloze_mrr.txt')\n",
    "    \n",
    "#     if path.exists(log_file):        \n",
    "    cloze_mrr = float(open(cloze_mrr_file).read())\n",
    "    perplexity = math.exp(best_val_loss)\n",
    "\n",
    "    perplexity_list.append(perplexity)\n",
    "    mrr_list.append(cloze_mrr)\n",
    "#         print(cloze_mrr)\n",
    "\n",
    "# print(mrr_list)\n",
    "# print(perplexity_list)\n",
    "\n",
    "\n",
    "print(len(perplexity_list))\n",
    "\n",
    "print(spearmanr(perplexity_list, mrr_list))\n",
    "print(min(perplexity_list))\n",
    "print(max(mrr_list))\n",
    "\n"
   ]
  },
  {
   "cell_type": "code",
   "execution_count": 157,
   "metadata": {},
   "outputs": [
    {
     "name": "stdout",
     "output_type": "stream",
     "text": [
      "[2.8962543841075314, 2.901784418822492, 2.9131116675037716, 2.915133464326174, 2.9226226372701523, 2.923125260942144, 2.923982792649646, 2.9244225675077855, 2.9340311340837033, 2.935370292759199, 2.9359457266013886, 2.9364682932232786, 2.9517279377285206, 2.952466155846074, 2.956600206940861, 2.9577134074457314, 2.9615838608403395, 2.961653320458729, 2.964128486407296, 2.9682177344111493, 2.9737042372762987, 2.9757192416281386, 2.9781448727104065, 2.9855462072092345, 2.9856416271005495, 2.989767564657122, 2.997014055614304, 2.9986712719696422, 6.3268626649421025, 7.095902498940469, 14.518557177403933]\n"
     ]
    }
   ],
   "source": [
    "print(sorted(perplexity_list))\n"
   ]
  },
  {
   "cell_type": "code",
   "execution_count": 158,
   "metadata": {},
   "outputs": [
    {
     "name": "stdout",
     "output_type": "stream",
     "text": [
      "[4301, 4086, 4122, 4300, 5006, 4335, 4311, 5072, 4843, 5236, 5343, 5362, 5328, 5256, 5510, 5714, 5610, 5397, 5686, 5240, 5543, 5973, 5934, 5295, 6083, 5880, 5766, 2630, 6012, 5831]\n",
      "[0.183, 0.234, 0.301, 0.143, 0.259, 0.173, 0.153, 0.174, 0.265, 0.299, 0.317, 0.314, 0.312, 0.186, 0.251, 0.28, 0.209, 0.261, 0.233, 0.131, 0.187, 0.234, 0.281, 0.231, 0.245, 0.248, 0.278, 0.132, 0.252, 0.251]\n"
     ]
    }
   ],
   "source": [
    "mrr_list = []\n",
    "total_corr_list = []\n",
    "perplexity_list = []\n",
    "\n",
    "model_names = [\n",
    "    \"size_base_epochs_100_patience_10_seed_100\", \n",
    "    \"size_base_epochs_100_patience_10_state_0.1_all_text_seed_100\", \n",
    "    \"size_base_epochs_100_patience_10_state_0.1_random_text_seed_100\", \n",
    "    \"size_base_epochs_100_patience_10_state_0.1_targeted_text_seed_100\", \n",
    "    \"size_base_epochs_100_patience_10_state_0.2_all_text_seed_100\", \n",
    "    \"size_base_epochs_100_patience_10_state_0.2_random_text_seed_100\", \n",
    "    \"size_base_epochs_100_patience_10_state_0.2_targeted_text_seed_100\", \n",
    "    \"size_base_epochs_100_patience_10_state_0.3_all_text_seed_100\", \n",
    "    \"size_base_epochs_100_patience_10_state_0.3_random_text_seed_100\", \n",
    "    \"size_base_epochs_100_patience_10_state_0.3_targeted_text_seed_100\", \n",
    "    \"size_base_epochs_100_patience_10_state_0.4_all_text_seed_100\", \n",
    "    \"size_base_epochs_100_patience_10_state_0.4_random_text_seed_100\", \n",
    "    \"size_base_epochs_100_patience_10_state_0.4_targeted_text_seed_100\", \n",
    "    \"size_base_epochs_100_patience_10_state_0.5_all_text_seed_100\", \n",
    "    \"size_base_epochs_100_patience_10_state_0.5_random_text_seed_100\", \n",
    "    \"size_base_epochs_100_patience_10_state_0.5_targeted_text_seed_100\", \n",
    "    \"size_base_epochs_100_patience_10_state_0.6_all_text_seed_100\", \n",
    "    \"size_base_epochs_100_patience_10_state_0.6_random_text_seed_100\", \n",
    "    \"size_base_epochs_100_patience_10_state_0.6_targeted_text_seed_100\", \n",
    "    \"size_base_epochs_100_patience_10_state_0.7_all_text_seed_100\", \n",
    "    \"size_base_epochs_100_patience_10_state_0.7_random_text_seed_100\", \n",
    "    \"size_base_epochs_100_patience_10_state_0.7_targeted_text_seed_100\", \n",
    "    \"size_base_epochs_100_patience_10_state_0.8_all_text_seed_100\", \n",
    "    \"size_base_epochs_100_patience_10_state_0.8_random_text_seed_100\", \n",
    "    \"size_base_epochs_100_patience_10_state_0.8_targeted_text_seed_100\", \n",
    "    \"size_base_epochs_100_patience_10_state_0.9_all_text_seed_100\", \n",
    "    \"size_base_epochs_100_patience_10_state_0.9_random_text_seed_100\", \n",
    "    \"size_base_epochs_100_patience_10_state_0.9_targeted_text_seed_100\", \n",
    "    \"size_base_epochs_100_patience_10_state_1.0_all_text_seed_100\", \n",
    "    \"size_base_epochs_100_patience_10_state_1.0_random_text_seed_100\", \n",
    "    \"size_base_epochs_100_patience_10_state_1.0_targeted_text_seed_100\", \n",
    "]\n",
    "\n",
    "\n",
    "for model_name in model_names:\n",
    "    model_path = path.join(base_dir, model_name)\n",
    "#     if 'random' in model_name:\n",
    "#         continue\n",
    "    model = torch.load(path.join(path.join(model_path, \"best\"), \"model.pt\"))\n",
    "    best_val_loss = model[\"train_info\"][\"best_val_loss\"]\n",
    "    log_file = path.join(model_path, 'dev.jsonl')\n",
    "    if path.exists(log_file):        \n",
    "        data = json.load(open(log_file))        \n",
    "        orig = [0, 0]\n",
    "        chng = [0, 0]\n",
    "        for key in data:\n",
    "            instance = data[key]\n",
    "            for output in instance[\"output\"]:\n",
    "                if output[\"same_as_init\"]:\n",
    "                    orig[1] += 1\n",
    "                    if output[\"corr\"]:\n",
    "                        orig[0] += 1\n",
    "                else:\n",
    "                    chng[1] += 1\n",
    "                    if output[\"corr\"]:\n",
    "                        chng[0] += 1\n",
    "                        \n",
    "        total_corr = orig[0] + chng[0]\n",
    "        total_corr_list.append(total_corr)\n",
    "    \n",
    "        cloze_mrr_file = path.join(model_path, 'cloze_mrr.txt')\n",
    "\n",
    "        cloze_mrr = float(open(cloze_mrr_file).read())\n",
    "        perplexity = math.exp(best_val_loss)\n",
    "\n",
    "        perplexity_list.append(best_val_loss)\n",
    "        mrr_list.append(cloze_mrr)\n",
    "\n",
    "print(total_corr_list)\n",
    "print(mrr_list)"
   ]
  },
  {
   "cell_type": "code",
   "execution_count": 159,
   "metadata": {},
   "outputs": [
    {
     "data": {
      "text/plain": [
       "SpearmanrResult(correlation=0.3335558605053949, pvalue=0.07165306312231716)"
      ]
     },
     "execution_count": 159,
     "metadata": {},
     "output_type": "execute_result"
    }
   ],
   "source": [
    "spearmanr(total_corr_list, mrr_list)"
   ]
  },
  {
   "cell_type": "markdown",
   "metadata": {},
   "source": [
    "## Egregious Errors"
   ]
  },
  {
   "cell_type": "code",
   "execution_count": 160,
   "metadata": {},
   "outputs": [],
   "source": [
    "# # model_names = [\n",
    "# # #     'size_base_epochs_100_patience_10_state_0.1_targeted_text_seed_60',\n",
    "# #     'size_base_epochs_100_patience_10_state_0.5_targeted_text_seed_70',\n",
    "\n",
    "# #     'size_base_epochs_100_patience_10_state_0.1_all_text_seed_70',\n",
    "# #     'size_base_epochs_100_patience_10_state_0.25_all_text_seed_70',\n",
    "# #     'size_base_epochs_100_patience_10_state_0.5_all_text_seed_70',\n",
    "# #     'size_base_epochs_100_patience_10_state_0.75_all_text_seed_70',\n",
    "\n",
    "# # #     'size_base_epochs_100_patience_10_state_0.1_random_text_seed_60',\n",
    "# # #     'size_base_epochs_100_patience_10_state_0.25_random_text_seed_60',\n",
    "# # #     'size_base_epochs_100_patience_10_state_0.5_random_text_seed_60',\n",
    "# # #     'size_base_epochs_100_patience_10_state_0.75_random_text_seed_60',\n",
    "# # ]\n",
    "\n",
    "\n",
    "# for model_name in model_names:\n",
    "#     model_path = path.join(base_dir, model_name)\n",
    "#     log_file = path.join(model_path, 'dev.jsonl')\n",
    "#     if path.exists(log_file):        \n",
    "# #         print(model_name)\n",
    "#         model = torch.load(path.join(path.join(model_path, \"best\"), \"model.pt\"))\n",
    "#         best_val_loss = model[\"train_info\"][\"best_val_loss\"]\n",
    "        \n",
    "#         data = json.load(open(log_file))\n",
    "        \n",
    "#         error_count_dict = Counter()\n",
    "#         for key in data:\n",
    "#             instance = data[key]\n",
    "#             error_count = 0\n",
    "#             for output in instance[\"output\"]:\n",
    "#                 if not output[\"corr\"]:\n",
    "#                     error_count += 1\n",
    "            \n",
    "# #             if error_count == 6:\n",
    "# #                 print(instance)\n",
    "#             error_count_dict[error_count] += 1\n",
    "            \n",
    "# #         print(error_count_dict)\n",
    "# #         print()\n"
   ]
  }
 ],
 "metadata": {
  "kernelspec": {
   "display_name": "Python [conda env:rap_nlp] *",
   "language": "python",
   "name": "conda-env-rap_nlp-py"
  },
  "language_info": {
   "codemirror_mode": {
    "name": "ipython",
    "version": 3
   },
   "file_extension": ".py",
   "mimetype": "text/x-python",
   "name": "python",
   "nbconvert_exporter": "python",
   "pygments_lexer": "ipython3",
   "version": "3.8.5"
  }
 },
 "nbformat": 4,
 "nbformat_minor": 4
}
