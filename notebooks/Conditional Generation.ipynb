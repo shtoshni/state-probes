{
 "cells": [
  {
   "cell_type": "code",
<<<<<<< HEAD
   "execution_count": 85,
   "id": "90be2411",
=======
   "execution_count": 105,
>>>>>>> 0b63f6df0943d5c47f3f3bd26c77ce819928dd5e
   "metadata": {},
   "outputs": [],
   "source": [
    "import torch\n",
    "from transformers import BartForConditionalGeneration, BartConfig, BartTokenizerFast"
   ]
  },
  {
   "cell_type": "code",
<<<<<<< HEAD
   "execution_count": 88,
   "id": "2d7fe0ae",
=======
   "execution_count": 106,
>>>>>>> 0b63f6df0943d5c47f3f3bd26c77ce819928dd5e
   "metadata": {},
   "outputs": [],
   "source": [
    "model_path = \"/home/shtoshni/Research/state-probes/models/epochs_100_patience_10_state_0.5_all/best/model.pt\""
   ]
  },
  {
   "cell_type": "code",
<<<<<<< HEAD
   "execution_count": 89,
   "id": "6dd51b61",
=======
   "execution_count": 107,
>>>>>>> 0b63f6df0943d5c47f3f3bd26c77ce819928dd5e
   "metadata": {},
   "outputs": [],
   "source": [
    "model_class = BartForConditionalGeneration\n",
    "config_class = BartConfig\n",
    "model_fp = 'facebook/bart-base'\n",
    "\n",
    "config = config_class.from_pretrained(model_fp)        \n",
    "model = model_class(config)\n",
    "\n",
    "tokenizer = BartTokenizerFast.from_pretrained(model_fp)\n",
    "\n",
    "checkpoint = torch.load(model_path, map_location=torch.device('cpu'))\n",
    "model_dict = checkpoint['model']\n",
    "\n",
    "\n",
    "try:\n",
    "    model.load_state_dict(model_dict)\n",
    "except RuntimeError:\n",
    "    PROBE_START = '[PROBE_START]'\n",
    "    PROBE_END = '[PROBE_END]'\n",
    "    tokenizer.add_special_tokens({\n",
    "        'additional_special_tokens': [PROBE_START, PROBE_END]\n",
    "    })\n",
    "    model.resize_token_embeddings(len(tokenizer))\n",
    "    model.load_state_dict(model_dict)"
   ]
  },
  {
   "cell_type": "code",
<<<<<<< HEAD
   "execution_count": 90,
   "id": "74697d2b",
=======
   "execution_count": 108,
>>>>>>> 0b63f6df0943d5c47f3f3bd26c77ce819928dd5e
   "metadata": {},
   "outputs": [
    {
     "data": {
      "text/plain": [
       "Namespace(add_state='all', base_dir='/home-nfs/shtoshni/research/state-probes/', base_model_dir='/home-nfs/shtoshni/research/state-probes/models/', batchsize=24, best_model_dir='/home-nfs/shtoshni/research/state-probes/models/epochs_100_patience_10_state_0.5_all/best', best_model_path='/home-nfs/shtoshni/research/state-probes/models/epochs_100_patience_10_state_0.5_all/best/model.pt', encode_init_state='NL', epochs=100, eval=False, lr=1e-05, model_dir='/home-nfs/shtoshni/research/state-probes/models/epochs_100_patience_10_state_0.5_all', model_path='/home-nfs/shtoshni/research/state-probes/models/epochs_100_patience_10_state_0.5_all/model.pt', patience=10, rap_prob=0.5, seed=45, use_state_loss=True)"
      ]
     },
     "execution_count": 108,
     "metadata": {},
     "output_type": "execute_result"
    }
   ],
   "source": [
    "checkpoint['args']"
   ]
  },
  {
   "cell_type": "code",
<<<<<<< HEAD
   "execution_count": 91,
   "id": "202080e4",
=======
   "execution_count": 109,
>>>>>>> 0b63f6df0943d5c47f3f3bd26c77ce819928dd5e
   "metadata": {},
   "outputs": [
    {
     "data": {
      "text/plain": [
       "['[PROBE_END]']"
      ]
     },
     "execution_count": 109,
     "metadata": {},
     "output_type": "execute_result"
    }
   ],
   "source": [
    "tokenizer.convert_ids_to_tokens([len(tokenizer) - 1])"
   ]
  },
  {
   "cell_type": "code",
<<<<<<< HEAD
   "execution_count": 92,
   "id": "047e33c1",
=======
   "execution_count": 110,
>>>>>>> 0b63f6df0943d5c47f3f3bd26c77ce819928dd5e
   "metadata": {},
   "outputs": [],
   "source": [
    "example_english_phrase = \"The fifth beaker has 2 orange \" \n",
    "batch = tokenizer(example_english_phrase, return_tensors='pt')\n",
    "generated_ids = model.generate(batch['input_ids'], \n",
    "#                                pad_token_id=tokenizer.pad_token_id, \n",
    "#                                eos_token_id=tokenizer.eos_token_id, #len(tokenizer) - 1,\n",
    "#                                eos_token_id=len(tokenizer) - 1, \n",
    "#                                bos_token_id=tokenizer.bos_token_id,  \n",
    "                              )"
   ]
  },
  {
   "cell_type": "code",
<<<<<<< HEAD
   "execution_count": 93,
   "id": "44ee842b",
=======
   "execution_count": 111,
>>>>>>> 0b63f6df0943d5c47f3f3bd26c77ce819928dd5e
   "metadata": {},
   "outputs": [
    {
     "data": {
      "text/plain": [
       "['</s><s>[PROBE_START] the first beaker has 2 orange [PROBE_END] pour out one line.</s>']"
      ]
     },
     "execution_count": 111,
     "metadata": {},
     "output_type": "execute_result"
    }
   ],
   "source": [
    "tokenizer.batch_decode(generated_ids, skip_special_tokens=False)"
   ]
  }
 ],
 "metadata": {
  "kernelspec": {
   "display_name": "Python 3",
   "language": "python",
   "name": "python3"
  },
  "language_info": {
   "codemirror_mode": {
    "name": "ipython",
    "version": 3
   },
   "file_extension": ".py",
   "mimetype": "text/x-python",
   "name": "python",
   "nbconvert_exporter": "python",
   "pygments_lexer": "ipython3",
   "version": "3.7.11"
  }
 },
 "nbformat": 4,
 "nbformat_minor": 5
}
