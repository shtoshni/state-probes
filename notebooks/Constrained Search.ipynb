{
 "cells": [
  {
   "cell_type": "code",
   "execution_count": 1,
   "id": "90be2411",
   "metadata": {},
   "outputs": [],
   "source": [
    "import torch\n",
    "from transformers import BartForConditionalGeneration, BartConfig, BartTokenizerFast"
   ]
  },
  {
   "cell_type": "code",
   "execution_count": 2,
   "id": "6dd51b61",
   "metadata": {},
   "outputs": [],
   "source": [
    "model_class = BartForConditionalGeneration\n",
    "config_class = BartConfig\n",
    "model_fp = 'facebook/bart-base'\n",
    "\n",
    "config = config_class.from_pretrained(model_fp)  \n",
    "\n",
    "model = model_class.from_pretrained(model_fp)\n",
    "tokenizer = BartTokenizerFast.from_pretrained(model_fp)"
   ]
  },
  {
   "cell_type": "code",
   "execution_count": 3,
   "id": "047e33c1",
   "metadata": {},
   "outputs": [],
   "source": [
    "example_english_phrase = \"Hello world \" \n",
    "batch = tokenizer(example_english_phrase, return_tensors='pt')"
   ]
  },
  {
   "cell_type": "code",
   "execution_count": 4,
   "id": "c8c7b5e2",
   "metadata": {},
   "outputs": [
    {
     "data": {
      "text/plain": [
       "['<s>Hello world </s>']"
      ]
     },
     "execution_count": 4,
     "metadata": {},
     "output_type": "execute_result"
    }
   ],
   "source": [
    "tokenizer.batch_decode(batch['input_ids'])"
   ]
  },
  {
   "cell_type": "code",
   "execution_count": 27,
   "id": "2438d9d4",
   "metadata": {},
   "outputs": [],
   "source": [
    "def get_prefix_allowed_tokens_fn(allowed_seqs):\n",
    "    allowed_ids = tokenizer(allowed_seqs)['input_ids']\n",
    "    allowed_ids = [[2] + allowed_id for allowed_id in allowed_ids]\n",
    "    print(allowed_ids)\n",
    "    \n",
    "    def prefix_constraining_fn(batch_id, input_ids):\n",
    "        print(batch_id)\n",
    "        print(input_ids)\n",
    "        if len(input_ids.size()) == 1:\n",
    "            prefix_len = len(input_ids)\n",
    "            prefix = input_ids.tolis\n",
    "        elif len(input_ids.size()) == 2:\n",
    "            prefix_len = len(input_ids[batch_id])\n",
    "        possible_conts = []\n",
    "        for allowed_id in allowed_ids:\n",
    "            if len(allowed_id) > prefix_len:\n",
    "                if input_ids[batch_id] == allowed_id[:prefix_len]:\n",
    "                    possible_conts.append(allowed_id[prefix_len])\n",
    "                    \n",
    "        print(possible_conts)\n",
    "        return possible_conts\n",
    "    \n",
    "    return prefix_constraining_fn"
   ]
  },
  {
   "cell_type": "code",
   "execution_count": 28,
   "id": "44ee842b",
   "metadata": {},
   "outputs": [
    {
     "name": "stdout",
     "output_type": "stream",
     "text": [
      "[[2, 0, 713, 16, 5, 4195, 9, 127, 78, 586, 11, 230, 2], [2, 0, 3084, 117, 117, 42, 16, 47304, 2]]\n"
     ]
    }
   ],
   "source": [
    "prefix_constraining_fn = get_prefix_allowed_tokens_fn(allowed_seqs)"
   ]
  },
  {
   "cell_type": "code",
   "execution_count": 29,
   "id": "bf1cb0a0",
   "metadata": {},
   "outputs": [
    {
     "name": "stdout",
     "output_type": "stream",
     "text": [
      "0\n",
      "tensor([2])\n",
      "[]\n",
      "0\n",
      "tensor([2])\n",
      "[]\n",
      "0\n",
      "tensor([2])\n",
      "[]\n",
      "0\n",
      "tensor([2])\n",
      "[]\n",
      "0\n",
      "tensor([2, 5])\n",
      "[]\n",
      "0\n",
      "tensor([2, 4])\n",
      "[]\n",
      "0\n",
      "tensor([2, 6])\n",
      "[]\n",
      "0\n",
      "tensor([2, 0])\n",
      "[]\n",
      "0\n",
      "tensor([2, 5, 5])\n",
      "[]\n",
      "0\n",
      "tensor([2, 5, 4])\n",
      "[]\n",
      "0\n",
      "tensor([2, 5, 6])\n",
      "[]\n",
      "0\n",
      "tensor([2, 5, 0])\n",
      "[]\n",
      "0\n",
      "tensor([2, 5, 5, 5])\n",
      "[]\n",
      "0\n",
      "tensor([2, 5, 5, 4])\n",
      "[]\n",
      "0\n",
      "tensor([2, 5, 5, 6])\n",
      "[]\n",
      "0\n",
      "tensor([2, 5, 5, 0])\n",
      "[]\n"
     ]
    }
   ],
   "source": [
    "generated_ids = model.generate(batch['input_ids'], \n",
    "                               pad_token_id=tokenizer.pad_token_id, \n",
    "                               eos_token_id=tokenizer.eos_token_id, #len(tokenizer) - 1, \n",
    "                               bos_token_id=tokenizer.bos_token_id,  \n",
    "                               prefix_allowed_tokens_fn=prefix_constraining_fn,\n",
    "#                                num_beams=2,\n",
    "                              )"
   ]
  },
  {
   "cell_type": "code",
   "execution_count": 30,
   "id": "d29772f4",
   "metadata": {},
   "outputs": [
    {
     "name": "stdout",
     "output_type": "stream",
     "text": [
      "['</s> the the the</s>']\n"
     ]
    }
   ],
   "source": [
    "print(tokenizer.batch_decode(generated_ids))\n"
   ]
  }
 ],
 "metadata": {
  "kernelspec": {
   "display_name": "Python 3",
   "language": "python",
   "name": "python3"
  },
  "language_info": {
   "codemirror_mode": {
    "name": "ipython",
    "version": 3
   },
   "file_extension": ".py",
   "mimetype": "text/x-python",
   "name": "python",
   "nbconvert_exporter": "python",
   "pygments_lexer": "ipython3",
   "version": "3.7.11"
  }
 },
 "nbformat": 4,
 "nbformat_minor": 5
}
