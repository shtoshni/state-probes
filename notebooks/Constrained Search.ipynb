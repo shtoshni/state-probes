{
 "cells": [
  {
   "cell_type": "code",
   "execution_count": 85,
   "id": "90be2411",
   "metadata": {},
   "outputs": [],
   "source": [
    "import torch\n",
    "from transformers import BartForConditionalGeneration, BartConfig, BartTokenizerFast"
   ]
  },
  {
   "cell_type": "code",
   "execution_count": 86,
   "id": "6dd51b61",
   "metadata": {},
   "outputs": [],
   "source": [
    "model_class = BartForConditionalGeneration\n",
    "config_class = BartConfig\n",
    "model_fp = 'facebook/bart-base'\n",
    "\n",
    "config = config_class.from_pretrained(model_fp)  \n",
    "\n",
    "model = model_class.from_pretrained(model_fp)\n",
    "tokenizer = BartTokenizerFast.from_pretrained(model_fp)"
   ]
  },
  {
   "cell_type": "code",
   "execution_count": 87,
   "id": "047e33c1",
   "metadata": {},
   "outputs": [],
   "source": [
    "example_english_phrase = \"The fifth beaker has 2 orange \" \n",
    "batch = tokenizer(example_english_phrase, return_tensors='pt')\n",
    "generated_ids = model.generate(batch['input_ids'], \n",
    "                               pad_token_id=tokenizer.pad_token_id, \n",
    "                               eos_token_id=tokenizer.eos_token_id, #len(tokenizer) - 1, \n",
    "                               bos_token_id=tokenizer.bos_token_id,  \n",
    "                              )"
   ]
  },
  {
   "cell_type": "code",
   "execution_count": 88,
   "id": "44ee842b",
   "metadata": {},
   "outputs": [
    {
     "data": {
      "text/plain": [
       "['</s><s>The fifth beaker has 2 orange </s>']"
      ]
     },
     "execution_count": 88,
     "metadata": {},
     "output_type": "execute_result"
    }
   ],
   "source": [
    "tokenizer.batch_decode(generated_ids, skip_special_tokens=False)"
   ]
  },
  {
   "cell_type": "code",
   "execution_count": 89,
   "id": "d29772f4",
   "metadata": {},
   "outputs": [],
   "source": [
    "prompt = [\"Hello world\"]\n",
    "output_text = [\"This is the output of my first program in C<pad>\"]"
   ]
  },
  {
   "cell_type": "code",
   "execution_count": 90,
   "id": "247bc8a3",
   "metadata": {},
   "outputs": [],
   "source": [
    "model = model.train()"
   ]
  },
  {
   "cell_type": "code",
   "execution_count": 91,
   "id": "0b9eea7d",
   "metadata": {},
   "outputs": [],
   "source": [
    "encoded = tokenizer.batch_encode_plus(prompt, return_tensors='pt', padding=True)\n",
    "decoded = tokenizer.batch_encode_plus(output_text, return_tensors='pt', padding=True, add_special_tokens=False)\n",
    "# model(encoded)"
   ]
  },
  {
   "cell_type": "code",
   "execution_count": 97,
   "id": "53e9dbd2",
   "metadata": {},
   "outputs": [],
   "source": [
    "from transformers.models.bart.modeling_bart import shift_tokens_right"
   ]
  },
  {
   "cell_type": "code",
   "execution_count": 98,
   "id": "5229de7e",
   "metadata": {},
   "outputs": [],
   "source": [
    "def shift_tokens_right(input_ids, pad_token_id):\n",
    "  \"\"\" Shift input ids one token to the right, and wrap the last non pad token (usually <eos>).\n",
    "      This is taken directly from modeling_bart.py\n",
    "  \"\"\"\n",
    "  prev_output_tokens = input_ids.clone()\n",
    "  index_of_eos = (input_ids.ne(pad_token_id).sum(dim=1) - 1).unsqueeze(-1)\n",
    "  prev_output_tokens[:, 0] = input_ids.gather(1, index_of_eos).squeeze()\n",
    "  prev_output_tokens[:, 1:] = input_ids[:, :-1]\n",
    "  return prev_output_tokens"
   ]
  },
  {
   "cell_type": "code",
   "execution_count": 99,
   "id": "bdfc5b8e",
   "metadata": {},
   "outputs": [
    {
     "name": "stdout",
     "output_type": "stream",
     "text": [
      "tensor([[ 713,   16,    5, 4195,    9,  127,   78,  586,   11,  230,    1]])\n"
     ]
    }
   ],
   "source": [
    "print(decoded['input_ids'])"
   ]
  },
  {
   "cell_type": "code",
   "execution_count": 100,
   "id": "518317b3",
   "metadata": {},
   "outputs": [],
   "source": [
    "output = shift_tokens_right(decoded['input_ids'], pad_token_id=tokenizer.pad_token_id)"
   ]
  },
  {
   "cell_type": "code",
   "execution_count": 101,
   "id": "fde56da4",
   "metadata": {},
   "outputs": [
    {
     "data": {
      "text/plain": [
       "[' CThis is the output of my first program in C']"
      ]
     },
     "execution_count": 101,
     "metadata": {},
     "output_type": "execute_result"
    }
   ],
   "source": [
    "tokenizer.batch_decode(output)"
   ]
  }
 ],
 "metadata": {
  "kernelspec": {
   "display_name": "Python 3",
   "language": "python",
   "name": "python3"
  },
  "language_info": {
   "codemirror_mode": {
    "name": "ipython",
    "version": 3
   },
   "file_extension": ".py",
   "mimetype": "text/x-python",
   "name": "python",
   "nbconvert_exporter": "python",
   "pygments_lexer": "ipython3",
   "version": "3.7.11"
  }
 },
 "nbformat": 4,
 "nbformat_minor": 5
}
