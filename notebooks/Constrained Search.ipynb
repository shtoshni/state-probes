{
 "cells": [
  {
   "cell_type": "code",
   "execution_count": 53,
   "metadata": {},
   "outputs": [],
   "source": [
    "import torch\n",
    "from transformers import BartForConditionalGeneration, BartConfig, BartTokenizerFast"
   ]
  },
  {
   "cell_type": "code",
   "execution_count": 54,
   "metadata": {},
   "outputs": [],
   "source": [
    "model_class = BartForConditionalGeneration\n",
    "config_class = BartConfig\n",
    "model_fp = \"facebook/bart-base\"\n",
    "\n",
    "config = config_class.from_pretrained(model_fp)\n",
    "\n",
    "model = model_class.from_pretrained(model_fp)\n",
    "tokenizer = BartTokenizerFast.from_pretrained(model_fp)"
   ]
  },
  {
   "cell_type": "code",
   "execution_count": 55,
   "metadata": {},
   "outputs": [],
   "source": [
    "example_english_phrase = \"Hello world \"\n",
    "batch = tokenizer(example_english_phrase, return_tensors=\"pt\")"
   ]
  },
  {
   "cell_type": "code",
   "execution_count": 56,
   "metadata": {},
   "outputs": [
    {
     "data": {
      "text/plain": [
       "['<s>Hello world </s>']"
      ]
     },
     "execution_count": 56,
     "metadata": {},
     "output_type": "execute_result"
    }
   ],
   "source": [
    "tokenizer.batch_decode(batch[\"input_ids\"])"
   ]
  },
  {
   "cell_type": "code",
   "execution_count": 57,
   "metadata": {},
   "outputs": [],
   "source": [
    "def get_prefix_allowed_tokens_fn(allowed_seqs):\n",
    "    allowed_ids = tokenizer(allowed_seqs)[\"input_ids\"]\n",
    "    allowed_ids = [[2] + allowed_id for allowed_id in allowed_ids]\n",
    "    print(allowed_ids)\n",
    "\n",
    "    def prefix_constraining_fn(batch_id, input_ids):\n",
    "        print(batch_id)\n",
    "        print(input_ids)\n",
    "        if len(input_ids.size()) == 1:\n",
    "            prefix_len = len(input_ids)\n",
    "            prefix = input_ids.tolis\n",
    "        elif len(input_ids.size()) == 2:\n",
    "            prefix_len = len(input_ids[batch_id])\n",
    "        possible_conts = []\n",
    "        for allowed_id in allowed_ids:\n",
    "            if len(allowed_id) > prefix_len:\n",
    "                if input_ids[batch_id] == allowed_id[:prefix_len]:\n",
    "                    possible_conts.append(allowed_id[prefix_len])\n",
    "\n",
    "        print(possible_conts)\n",
    "        return possible_conts\n",
    "\n",
    "    return prefix_constraining_fn"
   ]
  },
  {
   "cell_type": "code",
   "execution_count": 58,
   "metadata": {},
   "outputs": [
    {
     "ename": "NameError",
     "evalue": "name 'allowed_seqs' is not defined",
     "output_type": "error",
     "traceback": [
      "\u001b[0;31m---------------------------------------------------------------------------\u001b[0m",
      "\u001b[0;31mNameError\u001b[0m                                 Traceback (most recent call last)",
      "\u001b[0;32m/tmp/ipykernel_1423041/534625485.py\u001b[0m in \u001b[0;36m<module>\u001b[0;34m\u001b[0m\n\u001b[0;32m----> 1\u001b[0;31m \u001b[0mprefix_constraining_fn\u001b[0m \u001b[0;34m=\u001b[0m \u001b[0mget_prefix_allowed_tokens_fn\u001b[0m\u001b[0;34m(\u001b[0m\u001b[0mallowed_seqs\u001b[0m\u001b[0;34m)\u001b[0m\u001b[0;34m\u001b[0m\u001b[0;34m\u001b[0m\u001b[0m\n\u001b[0m",
      "\u001b[0;31mNameError\u001b[0m: name 'allowed_seqs' is not defined"
     ]
    }
   ],
   "source": [
    "prefix_constraining_fn = get_prefix_allowed_tokens_fn(allowed_seqs)"
   ]
  },
  {
   "cell_type": "code",
   "execution_count": null,
   "metadata": {},
   "outputs": [],
   "source": [
    "generated_ids = model.generate(\n",
    "    batch[\"input_ids\"],\n",
    "    pad_token_id=tokenizer.pad_token_id,\n",
    "    eos_token_id=tokenizer.eos_token_id,  # len(tokenizer) - 1,\n",
    "    bos_token_id=tokenizer.bos_token_id,\n",
    "    prefix_allowed_tokens_fn=prefix_constraining_fn,\n",
    "    #                                num_beams=2,\n",
    ")"
   ]
  },
  {
   "cell_type": "code",
   "execution_count": null,
   "metadata": {},
   "outputs": [],
   "source": [
    "print(tokenizer.batch_decode(generated_ids))"
   ]
  }
 ],
 "metadata": {
  "kernelspec": {
   "display_name": "Python [conda env:state-probes]",
   "language": "python",
   "name": "conda-env-state-probes-py"
  },
  "language_info": {
   "codemirror_mode": {
    "name": "ipython",
    "version": 3
   },
   "file_extension": ".py",
   "mimetype": "text/x-python",
   "name": "python",
   "nbconvert_exporter": "python",
   "pygments_lexer": "ipython3",
   "version": "3.7.11"
  }
 },
 "nbformat": 4,
 "nbformat_minor": 5
}
