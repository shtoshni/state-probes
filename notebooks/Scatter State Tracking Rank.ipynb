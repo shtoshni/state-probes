{
 "cells": [
  {
   "cell_type": "code",
   "execution_count": 67,
   "id": "ba0acdc8",
   "metadata": {},
   "outputs": [],
   "source": [
    "import os\n",
    "from os import path\n",
    "import json\n",
    "import numpy as np\n",
    "import matplotlib.pyplot as plt\n",
    "import pprint\n",
    "\n",
    "pp = pprint.PrettyPrinter(indent=4)\n",
    "# Turn the interactive mode off otherwise the plots don't carry over across cells\n",
    "plt.ioff() \n",
    "\n",
    "# Set Matplotlib Parameters\n",
    "# plt.style.use('bmh')\n",
    "# plt.rc('text', usetex=True)   # Might require installing TeX fonts\n",
    "plt.rc('axes', facecolor='w', labelcolor='b', edgecolor='k')\n",
    "plt.rcParams['font.size'] = 16"
   ]
  },
  {
   "cell_type": "code",
   "execution_count": 68,
   "id": "89642168",
   "metadata": {},
   "outputs": [],
   "source": [
    "def initialize_plot():\n",
    "    fig, ax = plt.subplots(1)\n",
    "    \n",
    "    # Get rid of grids and ticks\n",
    "    ax.grid(False)\n",
    "#     ax.xaxis.set_ticks_position('none')\n",
    "#     ax.yaxis.set_ticks_position('none')\n",
    "    \n",
    "    # Remove the two sides of the bounding box\n",
    "    spines_to_remove = ['top', 'right']\n",
    "    for spine in spines_to_remove:\n",
    "        ax.spines[spine].set_visible(False)\n",
    "        \n",
    "    return fig, ax"
   ]
  },
  {
   "cell_type": "code",
   "execution_count": 69,
   "id": "a6be1034",
   "metadata": {},
   "outputs": [],
   "source": [
    "def get_model_name(model_dir, seed=10):\n",
    "    model_name = path.basename(model_dir)\n",
    "    print(model_name)\n",
    "    model_name = model_name[len(\"size_base_epochs_100_patience_5_\"):]\n",
    "    print(model_name)\n",
    "    model_name = model_name.rstrip(f\"all_seed_{seed}\")    \n",
    "    return model_name"
   ]
  },
  {
   "cell_type": "code",
   "execution_count": 70,
   "id": "d4108448",
   "metadata": {},
   "outputs": [],
   "source": [
    "plot_dir = \"/private/home/shtoshni/research/state-probes/plots\""
   ]
  },
  {
   "cell_type": "code",
   "execution_count": 71,
   "id": "16343a44",
   "metadata": {},
   "outputs": [
    {
     "name": "stdout",
     "output_type": "stream",
     "text": [
      "size_base_epochs_100_patience_5_state_explanation_all_seed_10\n",
      "state_explanation_all_seed_10\n",
      "state_explanation\n"
     ]
    }
   ],
   "source": [
    "# model_dir = \"/private/home/shtoshni/research/state-probes/models/archive/size_base_epochs_100_patience_5_state_explanation_all_seed_60\"\n",
    "model_dir = \"/private/home/shtoshni/research/state-probes/models/size_base_epochs_100_patience_5_state_explanation_all_seed_10\"\n",
    "\n",
    "model_name = get_model_name(model_dir, seed=10)\n",
    "print(model_name)"
   ]
  },
  {
   "cell_type": "code",
   "execution_count": 72,
   "id": "000ad788",
   "metadata": {},
   "outputs": [
    {
     "name": "stdout",
     "output_type": "stream",
     "text": [
      "[0, 1, 5, 2, 9, 5, 9, 0, 8, 5, 24, 3, 2, 1, 1, 0, 16, 10, 3, 4, 2, 9, 3, 3, 8]\n",
      "[6, 6, 6, 6, 7, 6, 7, 6, 6, 4, 7, 6, 7, 7, 6, 7, 6, 7, 6, 7, 5, 6, 7, 6, 6]\n",
      "[4, 1, 0, 0, 1, 2, 0, 1, 3, 4, 4, 1, 24, 2, 4, 5, 4, 1, 8, 7, 12, 18, 11, 5, 8]\n",
      "[6, 5, 6, 7, 6, 7, 6, 7, 6, 6, 6, 5, 5, 6, 7, 6, 7, 7, 7, 7, 7, 5, 7, 6, 6]\n",
      "[12, 23, 2, 2, 1, 0, 1, 5, 10, 22, 4, 12, 4, 0, 2, 2]\n",
      "[6, 5, 6, 6, 6, 6, 7, 6, 7, 6, 5, 5, 7, 6, 7, 6]\n"
     ]
    },
    {
     "data": {
      "image/png": "[encoded data removed]",
      "text/plain": [
       "<Figure size 432x288 with 1 Axes>"
      ]
     },
     "metadata": {
      "needs_background": "light"
     },
     "output_type": "display_data"
    },
    {
     "data": {
      "image/png": "[encoded data removed]",
      "text/plain": [
       "<Figure size 432x288 with 1 Axes>"
      ]
     },
     "metadata": {
      "needs_background": "light"
     },
     "output_type": "display_data"
    },
    {
     "data": {
      "image/png": "[encoded data removed]",
      "text/plain": [
       "<Figure size 432x288 with 1 Axes>"
      ]
     },
     "metadata": {
      "needs_background": "light"
     },
     "output_type": "display_data"
    }
   ],
   "source": [
    "for num_prev_steps in range(1, 4):\n",
    "    json_file = path.join(model_dir, f\"cloze_mrr_fine_{num_prev_steps}.jsonl\")\n",
    "    rank_data = []\n",
    "    state_data = []\n",
    "    with open(json_file) as f:\n",
    "        for line in f:\n",
    "            instance = json.loads(line.strip())\n",
    "            rank_data.append(int(instance[\"rank\"]))\n",
    "            state_data.append(int(instance[\"corr_state\"]))\n",
    "            \n",
    "    print(rank_data)\n",
    "    print(state_data)\n",
    "    \n",
    "    fig, ax = initialize_plot()\n",
    "    plt.scatter(rank_data, state_data)\n",
    "#     plt.ylim((2, 7.7))\n",
    "    \n",
    "    figure_file = path.join(plot_dir, f\"{model_name}_prev_actions_{num_prev_steps}.jpg\")\n",
    "    plt.savefig(figure_file, format='jpg', dpi=300)"
   ]
  }
 ],
 "metadata": {
  "kernelspec": {
   "display_name": "Python 3 (ipykernel)",
   "language": "python",
   "name": "python3"
  },
  "language_info": {
   "codemirror_mode": {
    "name": "ipython",
    "version": 3
   },
   "file_extension": ".py",
   "mimetype": "text/x-python",
   "name": "python",
   "nbconvert_exporter": "python",
   "pygments_lexer": "ipython3",
   "version": "3.8.0"
  }
 },
 "nbformat": 4,
 "nbformat_minor": 5
}
