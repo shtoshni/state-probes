{
 "cells": [
  {
   "cell_type": "code",
   "execution_count": 7,
   "metadata": {},
   "outputs": [],
   "source": [
    "import torch\n",
    "from transformers import BartForConditionalGeneration, BartConfig, BartTokenizerFast"
   ]
  },
  {
   "cell_type": "code",
   "execution_count": 3,
   "metadata": {},
   "outputs": [],
   "source": [
    "model_path = \"/home/shtoshni/Research/state-probes/models/epochs_20_patience_5_state_0.25_all/best/model.pt\""
   ]
  },
  {
   "cell_type": "code",
   "execution_count": 9,
   "metadata": {},
   "outputs": [],
   "source": [
    "model_class = BartForConditionalGeneration\n",
    "config_class = BartConfig\n",
    "model_fp = 'facebook/bart-base'\n",
    "\n",
    "config = config_class.from_pretrained(model_fp)        \n",
    "model = model_class(config)\n",
    "\n",
    "tokenizer = BartTokenizerFast.from_pretrained(model_fp)\n",
    "\n",
    "model_dict = torch.load(model_path, map_location=torch.device('cpu'))['model']\n",
    "\n",
    "\n",
    "try:\n",
    "    model.load_state_dict(model_dict)\n",
    "except RuntimeError:\n",
    "    PROBE_START = '[PROBE_START]'\n",
    "    PROBE_END = '[PROBE_END]'\n",
    "    tokenizer.add_special_tokens({\n",
    "        'additional_special_tokens': [PROBE_START, PROBE_END]\n",
    "    })\n",
    "    model.resize_token_embeddings(len(tokenizer))"
   ]
  },
  {
   "cell_type": "code",
   "execution_count": 18,
   "metadata": {},
   "outputs": [],
   "source": [
    "example_english_phrase = \"Fifth beaker has 2 orange\"\n",
    "batch = tokenizer(example_english_phrase, return_tensors='pt')\n",
    "generated_ids = model.generate(batch['input_ids'], \n",
    "                               pad_token_id=tokenizer.pad_token_id, eos_token_id=tokenizer.eos_token_id)"
   ]
  },
  {
   "cell_type": "code",
   "execution_count": 19,
   "metadata": {},
   "outputs": [
    {
     "data": {
      "text/plain": [
       "['86ctxiac preliminary preliminary changed preliminary preliminary preliminary clerics preliminary preliminary Suzanne Suzanne preliminary preliminaryagging preliminary']"
      ]
     },
     "execution_count": 19,
     "metadata": {},
     "output_type": "execute_result"
    }
   ],
   "source": [
    "tokenizer.batch_decode(generated_ids, skip_special_tokens=True)"
   ]
  },
  {
   "cell_type": "code",
   "execution_count": null,
   "metadata": {},
   "outputs": [],
   "source": [
    "from transformers import BartForConditionalGeneration, BartTokenizer\n",
    "model = BartForConditionalGeneration.from_pretrained(\"facebook/bart-base\")\n",
    "tok = BartTokenizer.from_pretrained(\"facebook/bart-base\")\n",
    "example_english_phrase = \"UN Chief Says There Is No <mask> in Syria\"\n",
    "batch = tok(example_english_phrase, return_tensors='pt')\n",
    "generated_ids = model.generate(batch['input_ids'])\n",
    "assert tok.batch_decode(generated_ids, skip_special_tokens=True) == ['UN Chief Says There Is No Plan to Stop Chemical Weapons in Syria']"
   ]
  }
 ],
 "metadata": {
  "kernelspec": {
   "display_name": "Python [conda env:rap_nlp] *",
   "language": "python",
   "name": "conda-env-rap_nlp-py"
  },
  "language_info": {
   "codemirror_mode": {
    "name": "ipython",
    "version": 3
   },
   "file_extension": ".py",
   "mimetype": "text/x-python",
   "name": "python",
   "nbconvert_exporter": "python",
   "pygments_lexer": "ipython3",
   "version": "3.8.5"
  }
 },
 "nbformat": 4,
 "nbformat_minor": 5
}
