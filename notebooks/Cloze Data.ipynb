{
 "cells": [
  {
   "cell_type": "code",
   "execution_count": 1,
   "metadata": {},
   "outputs": [],
   "source": [
    "import sys\n",
    "\n",
    "\n",
    "base_dir = '/home/shtoshni/Research/state-probes'\n",
    "sys.path.append(base_dir)\n",
    "\n",
    "import torch\n",
    "import argparse\n",
    "import json\n",
    "import itertools\n",
    "import os\n",
    "from os import path\n",
    "import logging\n",
    "from transformers import BartForConditionalGeneration, BartConfig, BartTokenizerFast\n",
    "\n",
    "from data.alchemy.utils import int_to_word, colors\n",
    "# from data_transformer import convert_to_transformer_batches\n",
    "from data.alchemy.parseScone import loadData\n",
    "from shtoshni_probing.config import PROBE_START, PROBE_END\n",
    "\n",
    "from data.alchemy.utils import int_to_word, decide_translate, translate_states_to_nl\n",
    "from data.alchemy.parseScone import getBatchesWithInit\n"
   ]
  },
  {
   "cell_type": "code",
   "execution_count": 2,
   "metadata": {},
   "outputs": [],
   "source": [
    "dev_dataset, _, _ = loadData(split=\"dev\", kind=\"alchemy\", synthetic=False, base_dir=base_dir)"
   ]
  },
  {
   "cell_type": "code",
   "execution_count": 3,
   "metadata": {},
   "outputs": [
    {
     "data": {
      "text/plain": [
       "'<data.alchemy.parseScone.Datum object at 0x7f4010fbc8e0>'"
      ]
     },
     "execution_count": 3,
     "metadata": {},
     "output_type": "execute_result"
    }
   ],
   "source": [
    "str(dev_dataset[0])"
   ]
  },
  {
   "cell_type": "code",
   "execution_count": 4,
   "metadata": {},
   "outputs": [
    {
     "data": {
      "application/vnd.jupyter.widget-view+json": {
       "model_id": "4e8d400a3f7b4f21b5c227375dd09299",
       "version_major": 2,
       "version_minor": 0
      },
      "text/plain": [
       "HBox(children=(FloatProgress(value=0.0, description='Downloading', max=1716.0, style=ProgressStyle(description…"
      ]
     },
     "metadata": {},
     "output_type": "display_data"
    },
    {
     "name": "stdout",
     "output_type": "stream",
     "text": [
      "\n"
     ]
    }
   ],
   "source": [
    "tokenizer = BartTokenizerFast.from_pretrained(\"facebook/bart-base\")"
   ]
  },
  {
   "cell_type": "code",
   "execution_count": 5,
   "metadata": {},
   "outputs": [],
   "source": [
    "def convert_to_transformer_batches(\n",
    "    dataset, tokenizer, batchsize=1, random=None,\n",
    "    domain=\"alchemy\",\n",
    "    state_targets_type=\"state.NL\", device='cuda', num_instances=20,\n",
    "):\n",
    "    state_targets_type_split = state_targets_type.split('.')\n",
    "    batches = list(getBatchesWithInit(dataset, batchsize, get_subsequent_state=True))\n",
    "    \n",
    "    import random\n",
    "    random.seed(10)\n",
    "    random.shuffle(batches)\n",
    "    \n",
    "    \n",
    "    with open(path.join(path.join(base_dir, \"cloze_data\"), \"alchemy.txt\"), \"w\") as f:\n",
    "        for batch in batches[:100]:\n",
    "            inputs, lang_targets, prev_state_targets, subsequent_state_targets, init_states = zip(*batch)\n",
    "\n",
    "    #         print(init_states)\n",
    "\n",
    "            init_state = translate_states_to_nl(\n",
    "                    ' '.join(init_states[0]), \"alchemy\", isinstance(tokenizer, BartTokenizerFast))\n",
    "            \n",
    "            cur_state = translate_states_to_nl(\n",
    "                    ' '.join(prev_state_targets[0]), \"alchemy\", isinstance(tokenizer, BartTokenizerFast))\n",
    "#             print(init_state)\n",
    "\n",
    "            input_str = ' '.join(inputs[0]).replace(' \\n ', '. ')\n",
    "#             print(input_str)\n",
    "\n",
    "            target_str = ' '.join(lang_targets[0])\n",
    "#             print(target_str)\n",
    "            f.write(init_state + \"\\t\" + input_str  + \"\\t\" + cur_state + \"\\t\" + target_str + \"\\n\")\n",
    "        \n",
    "        \n",
    "        \n"
   ]
  },
  {
   "cell_type": "code",
   "execution_count": 6,
   "metadata": {},
   "outputs": [],
   "source": [
    "convert_to_transformer_batches(dev_dataset, tokenizer)"
   ]
  }
 ],
 "metadata": {
  "kernelspec": {
   "display_name": "Python [conda env:rap_nlp] *",
   "language": "python",
   "name": "conda-env-rap_nlp-py"
  },
  "language_info": {
   "codemirror_mode": {
    "name": "ipython",
    "version": 3
   },
   "file_extension": ".py",
   "mimetype": "text/x-python",
   "name": "python",
   "nbconvert_exporter": "python",
   "pygments_lexer": "ipython3",
   "version": "3.8.5"
  }
 },
 "nbformat": 4,
 "nbformat_minor": 4
}
