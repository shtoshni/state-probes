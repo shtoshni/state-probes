{
 "cells": [
  {
   "cell_type": "code",
   "execution_count": 1,
   "metadata": {},
   "outputs": [],
   "source": [
    "import sys\n",
    "\n",
    "\n",
    "base_dir = \"../../state-probes\"\n",
    "sys.path.append(base_dir)\n",
    "\n",
    "import torch\n",
    "import argparse\n",
    "import json\n",
    "import itertools\n",
    "import os\n",
    "from os import path\n",
    "import logging\n",
    "import random\n",
    "from transformers import BartForConditionalGeneration, BartConfig, BartTokenizerFast\n",
    "\n",
    "from data.alchemy.utils import int_to_word, colors\n",
    "\n",
    "# from data_transformer import convert_to_transformer_batches\n",
    "from data.alchemy.parseScone import loadData\n",
    "from shtoshni_lm.config import PROBE_START, PROBE_END\n",
    "\n",
    "from data.alchemy.utils import int_to_word, decide_translate, translate_states_to_nl\n",
    "from data.alchemy.parseScone import getBatchesWithInit"
   ]
  },
  {
   "cell_type": "code",
   "execution_count": 2,
   "metadata": {},
   "outputs": [],
   "source": [
    "dev_dataset, _, _ = loadData(\n",
    "    split=\"dev\", kind=\"alchemy\", synthetic=False, base_dir=base_dir\n",
    ")"
   ]
  },
  {
   "cell_type": "code",
   "execution_count": 3,
   "metadata": {},
   "outputs": [
    {
     "data": {
      "text/plain": [
       "'<data.alchemy.parseScone.Datum object at 0x7f7ebc17bd90>'"
      ]
     },
     "execution_count": 3,
     "metadata": {},
     "output_type": "execute_result"
    }
   ],
   "source": [
    "str(dev_dataset[0])"
   ]
  },
  {
   "cell_type": "code",
   "execution_count": 4,
   "metadata": {},
   "outputs": [],
   "source": [
    "tokenizer = BartTokenizerFast.from_pretrained(\"facebook/bart-base\")"
   ]
  },
  {
   "cell_type": "code",
   "execution_count": 5,
   "metadata": {},
   "outputs": [],
   "source": [
    "\n",
    "def convert_to_transformer_batches(\n",
    "    dataset,\n",
    "    tokenizer,\n",
    "    batchsize=1,\n",
    "    domain=\"alchemy\",\n",
    "    state_targets_type=\"state.NL\",\n",
    "    device=\"cuda\",\n",
    "    num_instances=50,\n",
    "    num_prev_steps=0\n",
    "):\n",
    "    state_targets_type_split = state_targets_type.split(\".\")\n",
    "    batches = list(getBatchesWithInit(dataset, batchsize, get_subsequent_state=True))\n",
    "\n",
    "    random.seed(10)\n",
    "    random.shuffle(batches)\n",
    "    \n",
    "    next_action_uniq = set()\n",
    "    counter = 0 \n",
    "    \n",
    "    with open(path.join(path.join(base_dir, \"cloze_data\"), f\"alchemy_{num_prev_steps}.txt\"), \"w\") as f:\n",
    "        for batch in batches:\n",
    "            (\n",
    "                inputs,\n",
    "                lang_targets,\n",
    "                prev_state_targets,\n",
    "                subsequent_state_targets,\n",
    "                init_states,\n",
    "            ) = zip(*batch)\n",
    "\n",
    "            #         print(init_states)\n",
    "\n",
    "            init_state = translate_states_to_nl(\n",
    "                \" \".join(init_states[0]),\n",
    "                \"alchemy\",\n",
    "                isinstance(tokenizer, BartTokenizerFast),\n",
    "            )\n",
    "\n",
    "            cur_state = translate_states_to_nl(\n",
    "                \" \".join(prev_state_targets[0]),\n",
    "                \"alchemy\",\n",
    "                isinstance(tokenizer, BartTokenizerFast),\n",
    "            )\n",
    "            #             print(init_state)\n",
    "            \n",
    "#             print(inputs[0])\n",
    "            num_steps = inputs[0].count(\"\\n\")\n",
    "            if num_steps != num_prev_steps:\n",
    "                continue\n",
    "            input_str = \" \".join(inputs[0]).replace(\" \\n \", \". \")\n",
    "            #             print(input_str)\n",
    "\n",
    "            target_str = \" \".join(lang_targets[0])\n",
    "            \n",
    "            if target_str in next_action_uniq:\n",
    "                continue\n",
    "            else:\n",
    "                next_action_uniq.add(target_str)\n",
    "            #             print(target_str)\n",
    "            f.write(\n",
    "                init_state\n",
    "                + \"\\t\"\n",
    "                + input_str\n",
    "                + \"\\t\"\n",
    "                + cur_state\n",
    "                + \"\\t\"\n",
    "                + target_str\n",
    "                + \"\\n\"\n",
    "            )\n",
    "            \n",
    "            counter += 1\n",
    "            \n",
    "            if counter >= num_instances:\n",
    "                return"
   ]
  },
  {
   "cell_type": "code",
   "execution_count": 6,
   "metadata": {},
   "outputs": [],
   "source": [
    "for num_prev_steps in range(4):\n",
    "    convert_to_transformer_batches(dev_dataset, tokenizer, num_instances=25, num_prev_steps=num_prev_steps)"
   ]
  }
 ],
 "metadata": {
  "kernelspec": {
   "display_name": "Python 3 (ipykernel)",
   "language": "python",
   "name": "python3"
  },
  "language_info": {
   "codemirror_mode": {
    "name": "ipython",
    "version": 3
   },
   "file_extension": ".py",
   "mimetype": "text/x-python",
   "name": "python",
   "nbconvert_exporter": "python",
   "pygments_lexer": "ipython3",
   "version": "3.8.0"
  }
 },
 "nbformat": 4,
 "nbformat_minor": 4
}
