{
 "cells": [
  {
   "cell_type": "code",
   "execution_count": 140,
   "id": "55fc30be",
   "metadata": {},
   "outputs": [],
   "source": [
    "import os\n",
    "from os import path\n",
    "import json\n",
    "import torch\n",
    "\n",
    "from scipy.stats import spearmanr\n",
    "import math\n",
    "from collections import Counter\n",
    "\n",
    "import glob"
   ]
  },
  {
   "cell_type": "code",
   "execution_count": 141,
   "id": "92b03e08",
   "metadata": {},
   "outputs": [],
   "source": [
    "model_path = \"/private/home/shtoshni/research/state-probes/models/size_base_epochs_100_patience_2_state_all_text_seed_3\""
   ]
  },
  {
   "cell_type": "code",
   "execution_count": 142,
   "id": "dee12874",
   "metadata": {},
   "outputs": [
    {
     "name": "stdout",
     "output_type": "stream",
     "text": [
      "88\n",
      "[2, 5, 26, 24, 2, 1, 12, 6, 2, 28, 19, 16, 26, 3, 40, 32, 9, 5, 59, 40, 0, 21, 4, 14, 0, 2, 2, 65, 0, 2, 0, 18, 12, 67, 6, 10, 3, 1, 28, 16, 87, 1, 16, 0, 10, 1, 90, 3, 37, 1, 8, 1, 0, 25, 0, 5, 50, 38, 4, 20, 12, 4, 79, 44, 64, 17, 99, 0, 3, 0, 55, 44, 93, 60, 86, 38, 17, 0, 22, 5, 96, 8, 15, 0, 18, 0, 0, 19]\n",
      "SpearmanrResult(correlation=0.038467019704992236, pvalue=0.7219717694091896)\n",
      "70\n",
      "[0, 3, 25, 4, 43, 19, 32, 0, 22, 6, 99, 15, 3, 7, 3, 0, 57, 42, 7, 12, 7, 34, 7, 3, 16, 15, 90, 0, 13, 6, 21, 1, 19, 34, 95, 50, 6, 43, 2, 0, 50, 36, 19, 65, 52, 81, 22, 6, 27, 86, 14, 13, 1, 12, 11, 0, 24, 4, 14, 19, 43, 13, 6, 0, 41, 15, 0, 15, 17, 12]\n",
      "SpearmanrResult(correlation=-0.19633846324777332, pvalue=0.10331173262313403)\n",
      "20\n",
      "[4, 1, 0, 2, 2, 3, 2, 1, 4, 5, 4, 1, 19, 2, 4, 2, 5, 2, 5, 7]\n",
      "SpearmanrResult(correlation=0.27371766411494286, pvalue=0.24290646533111848)\n",
      "20\n",
      "[10, 18, 3, 2, 3, 0, 1, 5, 11, 19, 4, 11, 4, 3, 1, 0, 3, 1, 3, 0]\n",
      "SpearmanrResult(correlation=-0.20390866936960306, pvalue=0.3885210698601044)\n"
     ]
    }
   ],
   "source": [
    "for num_prev_steps in range(4):\n",
    "    mrr_file = path.join(model_path, f\"cloze_mrr_fine_{num_prev_steps}.jsonl\")\n",
    "\n",
    "    corr_list = []\n",
    "    rank_list = []\n",
    "\n",
    "    with open(mrr_file) as f:\n",
    "        for line in f:\n",
    "    #         print(line)\n",
    "            instance = json.loads(line)\n",
    "            corr_list.append(int(instance[\"corr_state\"]))\n",
    "            rank_list.append(int(instance[\"rank\"]))        \n",
    "\n",
    "    print(len(corr_list))\n",
    "    print(rank_list)\n",
    "    print(spearmanr(corr_list, rank_list))"
   ]
  },
  {
   "cell_type": "code",
   "execution_count": null,
   "id": "49fbf757",
   "metadata": {},
   "outputs": [],
   "source": []
  }
 ],
 "metadata": {
  "kernelspec": {
   "display_name": "Python 3 (ipykernel)",
   "language": "python",
   "name": "python3"
  },
  "language_info": {
   "codemirror_mode": {
    "name": "ipython",
    "version": 3
   },
   "file_extension": ".py",
   "mimetype": "text/x-python",
   "name": "python",
   "nbconvert_exporter": "python",
   "pygments_lexer": "ipython3",
   "version": "3.8.0"
  }
 },
 "nbformat": 4,
 "nbformat_minor": 5
}
