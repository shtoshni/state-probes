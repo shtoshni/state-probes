{
 "cells": [
  {
   "cell_type": "code",
   "execution_count": 221,
   "id": "efb9cea2",
   "metadata": {},
   "outputs": [],
   "source": [
    "import os\n",
    "from os import path\n",
    "import json\n",
    "import torch\n",
    "\n",
    "from scipy.stats import spearmanr\n",
    "import math\n",
    "from collections import Counter\n",
    "\n",
    "import glob"
   ]
  },
  {
   "cell_type": "code",
   "execution_count": 222,
   "id": "88e93bbc",
   "metadata": {},
   "outputs": [],
   "source": [
    "model_path = \"/private/home/shtoshni/research/state-probes/models/size_base_epochs_100_patience_2_state_all_text_seed_3\""
   ]
  },
  {
   "cell_type": "code",
   "execution_count": 223,
   "id": "6b2f1064",
   "metadata": {},
   "outputs": [
    {
     "name": "stdout",
     "output_type": "stream",
     "text": [
      "100\n",
      "[2, 5, 26, 24, 2, 1, 12, 6, 2, 28, 19, 16, 26, 3, 40, 32, 9, 5, 59, 40, 0, 21, 4, 14, 0, 2, 2, 65, 0, 2, 0, 18, 12, 67, 6, 10, 3, 1, 28, 16, 87, 1, 16, 0, 10, 1, 90, 3, 37, 1, 8, 1, 0, 25, 0, 5, 50, 38, 4, 20, 12, 4, 79, 44, 64, 17, 99, 0, 3, 0, 55, 44, 93, 60, 86, 38, 17, 0, 22, 5, 96, 8, 15, 0, 18, 0, 0, 19, 32, 4, 6, 2, 25, 1, 2, 11, 3, 5, 14, 0]\n",
      "SpearmanrResult(correlation=0.07584265142346917, pvalue=0.4532713758625281)\n",
      "100\n",
      "[0, 3, 25, 4, 43, 19, 32, 0, 22, 6, 99, 15, 3, 7, 3, 0, 57, 42, 7, 12, 7, 34, 7, 3, 16, 15, 90, 0, 13, 6, 21, 1, 19, 34, 95, 50, 6, 43, 2, 0, 50, 36, 19, 65, 52, 81, 22, 6, 27, 86, 14, 13, 1, 12, 11, 0, 24, 4, 14, 19, 43, 13, 6, 0, 41, 15, 0, 15, 17, 12, 39, 11, 2, 24, 20, 28, 23, 7, 34, 4, 11, 85, 32, 6, 3, 14, 19, 1, 29, 2, 40, 88, 9, 56, 4, 30, 12, 19, 14, 37]\n",
      "SpearmanrResult(correlation=-0.22544903271899297, pvalue=0.024116743713591)\n",
      "100\n",
      "[9, 1, 0, 6, 6, 9, 4, 1, 14, 18, 9, 1, 98, 2, 6, 13, 17, 3, 19, 31, 47, 70, 15, 13, 29, 33, 25, 0, 8, 39, 85, 15, 8, 3, 8, 12, 3, 10, 63, 8, 2, 51, 0, 1, 26, 6, 2, 5, 96, 7, 39, 0, 8, 0, 91, 36, 39, 70, 32, 26, 31, 6, 20, 11, 50, 4, 8, 46, 12, 28, 19, 36, 3, 26, 6, 4, 15, 12, 24, 18, 15, 50, 5, 4, 1, 3, 17, 15, 28, 37, 6, 48, 14, 24, 37, 5, 21, 15, 2, 79]\n",
      "SpearmanrResult(correlation=-0.03515818254594785, pvalue=0.728389264865579)\n",
      "100\n",
      "[46, 93, 22, 5, 10, 0, 11, 21, 63, 87, 27, 61, 21, 16, 9, 4, 10, 5, 21, 1, 5, 14, 81, 2, 19, 9, 41, 43, 15, 3, 57, 38, 5, 6, 12, 0, 4, 53, 37, 23, 16, 15, 4, 10, 30, 14, 7, 27, 4, 24, 2, 69, 8, 62, 42, 12, 5, 33, 25, 1, 8, 3, 20, 51, 14, 5, 0, 46, 10, 18, 3, 11, 92, 53, 0, 0, 83, 13, 25, 1, 3, 40, 16, 0, 20, 2, 31, 33, 19, 6, 2, 38, 39, 88, 15, 11, 6, 21, 15, 22]\n",
      "SpearmanrResult(correlation=-0.0689850353933883, pvalue=0.49524506289852366)\n"
     ]
    }
   ],
   "source": [
    "for num_prev_steps in range(4):\n",
    "    mrr_file = path.join(model_path, f\"cloze_mrr_fine_{num_prev_steps}.jsonl\")\n",
    "\n",
    "    corr_list = []\n",
    "    rank_list = []\n",
    "\n",
    "    with open(mrr_file) as f:\n",
    "        for line in f:\n",
    "    #         print(line)\n",
    "            instance = json.loads(line)\n",
    "            corr_list.append(int(instance[\"corr_state\"]))\n",
    "            rank_list.append(int(instance[\"rank\"]))        \n",
    "\n",
    "    print(len(corr_list))\n",
    "    print(rank_list)\n",
    "    print(spearmanr(corr_list, rank_list))"
   ]
  },
  {
   "cell_type": "code",
   "execution_count": null,
   "id": "15e2cd3e",
   "metadata": {},
   "outputs": [],
   "source": []
  }
 ],
 "metadata": {
  "kernelspec": {
   "display_name": "Python 3 (ipykernel)",
   "language": "python",
   "name": "python3"
  },
  "language_info": {
   "codemirror_mode": {
    "name": "ipython",
    "version": 3
   },
   "file_extension": ".py",
   "mimetype": "text/x-python",
   "name": "python",
   "nbconvert_exporter": "python",
   "pygments_lexer": "ipython3",
   "version": "3.8.0"
  }
 },
 "nbformat": 4,
 "nbformat_minor": 5
}
